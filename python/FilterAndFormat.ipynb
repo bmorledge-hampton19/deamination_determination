{
 "cells": [
  {
   "cell_type": "code",
   "execution_count": null,
   "metadata": {},
   "outputs": [],
   "source": [
    "import os\n",
    "import tkinter as tk\n",
    "from tkinter import filedialog\n",
    "from FormatMismatchesForRelation import formatMismatchesForRelation, combineSingleAndTandemMismatches\n",
    "tk.Tk().withdraw()\n",
    "bioinformaticsDir = filedialog.askdirectory(title = \"Choose Bioinformatics Directory\")\n",
    "deaminationDeterminationDataDir = os.path.join(bioinformaticsDir, \"deamination_determination\", \"data\")\n",
    "mismatchesByReadDirectories = dict()\n",
    "sequenceAndPositionDirectories = dict()\n",
    "cellTypes = (\"NHF1\",\"Arabidopsis\", \"yeast\")\n",
    "timepointsByCellType = {\"NHF1\":[\"1h\",\"8h\",\"24h\",\"48h\"], \"Arabidopsis\":[\"ZT2\"], \"yeast\":[\"20min\"]}\n",
    "readLengthsByCellType = {\"NHF1\":range(22,31), \"Arabidopsis\":range(24,31), \"yeast\":range(22,26)}\n",
    "for cellType in cellTypes:\n",
    "    mismatchesByReadDirectories[cellType] = os.path.join(deaminationDeterminationDataDir, cellType, \"mismatches_by_read\")\n",
    "    sequenceAndPositionDirectories[cellType] = os.path.join(deaminationDeterminationDataDir, cellType, \"sequence_and_position_analysis\")"
   ]
  },
  {
   "cell_type": "code",
   "execution_count": null,
   "metadata": {},
   "outputs": [],
   "source": [
    "# Generate C>T- and CC>TT-specific reads\n",
    "for cellType in cellTypes:\n",
    "    for timepoint in timepointsByCellType[cellType]:\n",
    "        formattedMismatchesByReadFilePaths = list()\n",
    "        print(f\"\\nWorking with: {cellType}; {timepoint}\")\n",
    "        for mismatchType in (\"C_to_T\", \"CC_to_TT\"):\n",
    "            print(f\"Formatting and filtering for {mismatchType} mismatches...\")\n",
    "            if mismatchType == \"C_to_T\":\n",
    "                originalMismatchesByReadFilePath = os.path.join(mismatchesByReadDirectories[cellType],\n",
    "                                                                f\"{cellType}_CPD_{timepoint}_all_reps_mismatches_by_read_TGG_filtered.bed\")\n",
    "            else:\n",
    "                originalMismatchesByReadFilePath = os.path.join(mismatchesByReadDirectories[cellType],\n",
    "                                                                f\"{cellType}_CPD_{timepoint}_all_reps_{mismatchType}_mismatches_by_read_TGG_filtered.bed\")\n",
    "            zScoresFilePath = os.path.join(sequenceAndPositionDirectories[cellType],\n",
    "                                           f\"{cellType}_CPD_{timepoint}_all_reps_{mismatchType}_mismatch_frequency_z-scores_TGG_filtered.tsv\")\n",
    "            formattedMismatchesByReadFilePath = formatMismatchesForRelation(originalMismatchesByReadFilePath, zScoresFilePath,\n",
    "                                                                            acceptableMismatchTypes=[mismatchType.replace(\"_to_\",'>')],\n",
    "                                                                            acceptableReadLengths = readLengthsByCellType[cellType])\n",
    "\n",
    "            formattedMismatchesByReadFilePaths.append(formattedMismatchesByReadFilePath)\n",
    "\n",
    "            # Also generate results without position filtering\n",
    "            formatMismatchesForRelation(originalMismatchesByReadFilePath, zScoresFilePath = None, acceptableMismatchTypes=[mismatchType.replace(\"_to_\",'>')],\n",
    "                                        acceptableReadLengths = readLengthsByCellType[cellType], outputSuffix= \"_relation_formatted_no_position_filtering\")\n",
    "        \n",
    "        print(\"Combining single and tandem mismatches...\")\n",
    "        combinedFormattedMismatchesFilePath = combineSingleAndTandemMismatches(formattedMismatchesByReadFilePaths[0], formattedMismatchesByReadFilePaths[1])\n"
   ]
  },
  {
   "cell_type": "code",
   "execution_count": null,
   "metadata": {},
   "outputs": [],
   "source": [
    "# Generate mismatch-omitted reads\n",
    "for cellType in cellTypes:\n",
    "    for timepoint in timepointsByCellType[cellType]:\n",
    "        print(f\"\\nWorking with: {cellType}; {timepoint}\")\n",
    "        for mismatchType in (\"C_to_T\",):\n",
    "            print(f\"Formatting and filtering for non-{mismatchType} mismatches...\")\n",
    "            originalMismatchesByReadFilePath = os.path.join(mismatchesByReadDirectories[cellType],\n",
    "                                                            f\"{cellType}_CPD_{timepoint}_all_reps_mismatches_by_read_TGG_filtered.bed\")\n",
    "            formatMismatchesForRelation(originalMismatchesByReadFilePath, None, acceptableMismatchTypes = None,\n",
    "                                        unacceptableMismatchTypes = [mismatchType.replace(\"_to_\",'>')], filterCompositeMismatches = True,\n",
    "                                        acceptableReadLengths = readLengthsByCellType[cellType])"
   ]
  }
 ],
 "metadata": {
  "kernelspec": {
   "display_name": "Python 3",
   "language": "python",
   "name": "python3"
  },
  "language_info": {
   "codemirror_mode": {
    "name": "ipython",
    "version": 3
   },
   "file_extension": ".py",
   "mimetype": "text/x-python",
   "name": "python",
   "nbconvert_exporter": "python",
   "pygments_lexer": "ipython3",
   "version": "3.8.10"
  },
  "orig_nbformat": 4
 },
 "nbformat": 4,
 "nbformat_minor": 2
}
