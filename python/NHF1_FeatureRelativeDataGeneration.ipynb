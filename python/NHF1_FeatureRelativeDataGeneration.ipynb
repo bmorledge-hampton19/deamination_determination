{
 "cells": [
  {
   "cell_type": "code",
   "execution_count": null,
   "metadata": {},
   "outputs": [],
   "source": [
    "import os\n",
    "import tkinter as tk\n",
    "from tkinter import filedialog\n",
    "from RelateMismatchesToFeature import relateMismatchesToFeature\n",
    "tk.Tk().withdraw()\n",
    "bioinformaticsDir = filedialog.askdirectory(title = \"Choose Bioinformatics Directory\")\n",
    "deaminationDeterminationDataDir = os.path.join(bioinformaticsDir, \"deamination_determination\", \"data\")\n",
    "TFBS_Dir = os.path.join(deaminationDeterminationDataDir, \"TFBS\")\n",
    "TFBS_MidpointFilePaths = {\"CTCF_known1_DHS\":os.path.join(TFBS_Dir, \"CTCF_known1_DHS_midpoint.bed\"),\n",
    "                          \"CTCF_known1_non-DHS\":os.path.join(TFBS_Dir, \"CTCF_known1_non-DHS_midpoint.bed\")}\n",
    "mutperiodExternalDataDir = os.path.join(bioinformaticsDir,\"mutperiod\",\"mutperiod_data\",\"__external_data\")\n",
    "nucleosomeFilePaths = {\"hg19_mnase_all\":os.path.join(mutperiodExternalDataDir,\"hg19\", \"hg19_MNase_nucleosome_map_all\",\"hg19_MNase_nucleosome_map_all.bed\"),}\n",
    "mismatchesByReadDirectories = dict()\n",
    "cellTypes = (\"NHF1\",)\n",
    "timepointsByCellType = {\"NHF1\":[\"1h\", \"8h\", \"24h\", \"48h\"]}\n",
    "for cellType in cellTypes:\n",
    "    mismatchesByReadDirectories[cellType] = os.path.join(deaminationDeterminationDataDir, cellType, \"mismatches_by_read\")"
   ]
  },
  {
   "cell_type": "code",
   "execution_count": null,
   "metadata": {},
   "outputs": [],
   "source": [
    "for cellType in cellTypes:\n",
    "    for timepoint in timepointsByCellType[cellType]:\n",
    "        for mismatchType in (\"C_to_T\", \"CC_to_TT\", \"C_to_T_CC_to_TT\"):\n",
    "            \n",
    "            print(f\"\\nWorking with: {cellType}; {timepoint}; {mismatchType}\")\n",
    "\n",
    "            formattedMismatchesByReadFilePath = os.path.join(mismatchesByReadDirectories[cellType],\n",
    "                                                             f\"{cellType}_CPD_{timepoint}_all_reps_{mismatchType}_mismatches_by_read_relation_formatted_TGG_filtered.bed\")\n",
    "\n",
    "            print(\"\\tRelating TFBSs...\")\n",
    "            for TFBS_Midpoint in TFBS_MidpointFilePaths:\n",
    "                print(f\"\\tWorking with {TFBS_Midpoint}\")\n",
    "                relateMismatchesToFeature(formattedMismatchesByReadFilePath, TFBS_MidpointFilePaths[TFBS_Midpoint],\n",
    "                                        outputSuffix = f\"_{TFBS_Midpoint}_related\", enforcedStrand = '+')\n",
    "            \n",
    "            print(\"\\tRelating nucleosomes...\")\n",
    "            for nucleosomeMap in nucleosomeFilePaths:\n",
    "                print(f\"\\tWorking with {nucleosomeMap}\")\n",
    "                relateMismatchesToFeature(formattedMismatchesByReadFilePath, nucleosomeFilePaths[nucleosomeMap],\n",
    "                                        outputSuffix = f\"_{nucleosomeMap}_related\", enforcedStrand = '+', midpointRadius = 500)"
   ]
  }
 ],
 "metadata": {
  "kernelspec": {
   "display_name": "Python 3",
   "language": "python",
   "name": "python3"
  },
  "language_info": {
   "codemirror_mode": {
    "name": "ipython",
    "version": 3
   },
   "file_extension": ".py",
   "mimetype": "text/x-python",
   "name": "python",
   "nbconvert_exporter": "python",
   "pygments_lexer": "ipython3",
   "version": "3.8.10"
  },
  "orig_nbformat": 4
 },
 "nbformat": 4,
 "nbformat_minor": 2
}
