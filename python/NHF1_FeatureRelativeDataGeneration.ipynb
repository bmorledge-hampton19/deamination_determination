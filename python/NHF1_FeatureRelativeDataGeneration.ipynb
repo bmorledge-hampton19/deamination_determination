{
 "cells": [
  {
   "cell_type": "code",
   "execution_count": 1,
   "metadata": {},
   "outputs": [],
   "source": [
    "import os\n",
    "import tkinter as tk\n",
    "from tkinter import filedialog\n",
    "from python.RelateMismatchesToFeature import relateMismatchesToFeature\n",
    "from FormatMismatchesForRelation import formatMismatchesForRelation, combineSingleAndTandemMismatches\n",
    "tk.Tk().withdraw()\n",
    "bioinformaticsDir = filedialog.askdirectory(title = \"Choose Bioinformatics Directory\")\n",
    "deaminationDeterminationDataDir = os.path.join(bioinformaticsDir, \"deamination_determination\", \"data\")\n",
    "TFBS_Dir = os.path.join(deaminationDeterminationDataDir, \"TFBS\")\n",
    "TFBS_MidpointFilePaths = {\"CTCF_known1_DHS\":os.path.join(TFBS_Dir, \"CTCF_known1_DHS_midpoint.bed\"),\n",
    "                          \"CTCF_known1_non-DHS\":os.path.join(TFBS_Dir, \"CTCF_known1_non-DHS_midpoint.bed\")}\n",
    "mutperiodExternalDataDir = os.path.join(bioinformaticsDir,\"mutperiod\",\"mutperiod_data\",\"__external_data\")\n",
    "nucleosomeFilePaths = {\"hg19_mnase_all\":os.path.join(mutperiodExternalDataDir,\"hg19\", \"hg19_MNase_nucleosome_map_all\",\"hg19_MNase_nucleosome_map_all.bed\"),}\n",
    "mismatchesByReadDirectories = dict()\n",
    "sequenceAndPositionDirectories = dict()\n",
    "cellTypes = (\"NHF1\",)\n",
    "timepointsByCellType = {\"NHF1\":[\"1h\", \"8h\", \"24h\", \"48h\"]}\n",
    "for cellType in cellTypes:\n",
    "    mismatchesByReadDirectories[cellType] = os.path.join(deaminationDeterminationDataDir, cellType, \"mismatches_by_read\")\n",
    "    sequenceAndPositionDirectories[cellType] = os.path.join(deaminationDeterminationDataDir, cellType, \"sequence_and_position_analysis\")"
   ]
  },
  {
   "cell_type": "code",
   "execution_count": 2,
   "metadata": {},
   "outputs": [
    {
     "name": "stdout",
     "output_type": "stream",
     "text": [
      "\n",
      "Working with: NHF1; 1h\n",
      "Formatting and filtering...\n",
      "Combining single and tandem mismatches...\n",
      "Relating genomic features...\n",
      "\tWorking with CTCF_known1_DHS\n",
      "\tWorking with CTCF_known1_non-DHS\n",
      "\tWorking with hg19_mnase_all\n",
      "\n",
      "Working with: NHF1; 8h\n",
      "Formatting and filtering...\n",
      "Combining single and tandem mismatches...\n",
      "Relating genomic features...\n",
      "\tWorking with CTCF_known1_DHS\n",
      "\tWorking with CTCF_known1_non-DHS\n",
      "\tWorking with hg19_mnase_all\n",
      "\n",
      "Working with: NHF1; 24h\n",
      "Formatting and filtering...\n",
      "Combining single and tandem mismatches...\n",
      "Relating genomic features...\n",
      "\tWorking with CTCF_known1_DHS\n",
      "\tWorking with CTCF_known1_non-DHS\n",
      "\tWorking with hg19_mnase_all\n",
      "\n",
      "Working with: NHF1; 48h\n",
      "Formatting and filtering...\n",
      "Combining single and tandem mismatches...\n",
      "Relating genomic features...\n",
      "\tWorking with CTCF_known1_DHS\n",
      "\tWorking with CTCF_known1_non-DHS\n",
      "\tWorking with hg19_mnase_all\n"
     ]
    }
   ],
   "source": [
    "for cellType in cellTypes:\n",
    "    for timepoint in timepointsByCellType[cellType]:\n",
    "        formattedMismatchesByReadFilePaths = list()\n",
    "        print(f\"\\nWorking with: {cellType}; {timepoint}\")\n",
    "        print(\"Formatting and filtering...\")\n",
    "        for mismatchType in (\"C_to_T\", \"CC_to_TT\"):\n",
    "            if mismatchType == \"C_to_T\":\n",
    "                originalMismatchesByReadFilePath = os.path.join(mismatchesByReadDirectories[cellType],\n",
    "                                                                f\"{cellType}_CPD_{timepoint}_all_reps_mismatches_by_read_TGG_filtered.bed\")\n",
    "            else:\n",
    "                originalMismatchesByReadFilePath = os.path.join(mismatchesByReadDirectories[cellType],\n",
    "                                                                f\"{cellType}_CPD_{timepoint}_all_reps_{mismatchType}_mismatches_by_read_TGG_filtered.bed\")\n",
    "            zScoresFilePath = os.path.join(sequenceAndPositionDirectories[cellType],\n",
    "                                           f\"{cellType}_CPD_{timepoint}_all_reps_{mismatchType}_mismatch_frequency_z-scores_TGG_filtered.tsv\")\n",
    "            formattedMismatchesByReadFilePaths.append(\n",
    "                formatMismatchesForRelation(originalMismatchesByReadFilePath, zScoresFilePath,\n",
    "                                            acceptableMismatchTypes=[mismatchType.replace(\"_to_\",'>')], sortOutput = False)\n",
    "            )\n",
    "        \n",
    "        print(\"Combining single and tandem mismatches...\")\n",
    "        combinedFormattedMismatchesFilePath = combineSingleAndTandemMismatches(formattedMismatchesByReadFilePaths[0], formattedMismatchesByReadFilePaths[1])\n",
    "\n",
    "        print(\"Relating genomic features...\")\n",
    "        for TFBS_Midpoint in TFBS_MidpointFilePaths:\n",
    "            print(f\"\\tWorking with {TFBS_Midpoint}\")\n",
    "            relateMismatchesToFeature(combinedFormattedMismatchesFilePath, TFBS_MidpointFilePaths[TFBS_Midpoint],\n",
    "                                      outputSuffix = f\"_{TFBS_Midpoint}_related\", enforcedStrand = '+')\n",
    "        \n",
    "        for nucleosomeMap in nucleosomeFilePaths:\n",
    "            print(f\"\\tWorking with {nucleosomeMap}\")\n",
    "            relateMismatchesToFeature(combinedFormattedMismatchesFilePath, nucleosomeFilePaths[nucleosomeMap],\n",
    "                                      outputSuffix = f\"_{nucleosomeMap}_related\", enforcedStrand = '+')\n"
   ]
  }
 ],
 "metadata": {
  "kernelspec": {
   "display_name": "Python 3",
   "language": "python",
   "name": "python3"
  },
  "language_info": {
   "codemirror_mode": {
    "name": "ipython",
    "version": 3
   },
   "file_extension": ".py",
   "mimetype": "text/x-python",
   "name": "python",
   "nbconvert_exporter": "python",
   "pygments_lexer": "ipython3",
   "version": "3.8.10"
  },
  "orig_nbformat": 4
 },
 "nbformat": 4,
 "nbformat_minor": 2
}
