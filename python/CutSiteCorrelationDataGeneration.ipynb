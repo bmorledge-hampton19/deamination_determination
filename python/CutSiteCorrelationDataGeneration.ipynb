{
 "cells": [
  {
   "cell_type": "code",
   "execution_count": null,
   "metadata": {},
   "outputs": [],
   "source": [
    "import os\n",
    "import tkinter as tk\n",
    "from tkinter import filedialog\n",
    "from FormatMismatchesForRelation import formatMismatchesForRelation, combineSingleAndTandemMismatches\n",
    "tk.Tk().withdraw()\n",
    "bioinformaticsDir = filedialog.askdirectory(title = \"Choose Bioinformatics Directory\")\n",
    "deaminationDeterminationDataDir = os.path.join(bioinformaticsDir, \"deamination_determination\", \"data\")\n",
    "TFBS_Dir = os.path.join(deaminationDeterminationDataDir, \"TFBS\")\n",
    "TFBS_MidpointFilePaths = {\"CTCF_known1_DHS\":os.path.join(TFBS_Dir, \"CTCF_known1_DHS_midpoint.bed\"),\n",
    "                          \"CTCF_known1_non-DHS\":os.path.join(TFBS_Dir, \"CTCF_known1_non-DHS_midpoint.bed\")}\n",
    "mutperiodExternalDataDir = os.path.join(bioinformaticsDir,\"mutperiod\",\"mutperiod_data\",\"__external_data\")\n",
    "nucleosomeFilePaths = {\"hg19_mnase_all\":os.path.join(mutperiodExternalDataDir,\"hg19\", \"hg19_MNase_nucleosome_map_all\",\"hg19_MNase_nucleosome_map_all.bed\"),}\n",
    "mismatchesByReadDirectories = dict()\n",
    "sequenceAndPositionDirectories = dict()\n",
    "cellTypes = (\"NHF1\",\"Arabidopsis\", \"yeast\")\n",
    "timepointsByCellType = {\"NHF1\":[\"1h\"], \"Arabidopsis\":[\"ZT2\"], \"yeast\":[\"20min\"]}\n",
    "readLengthsByCellType = {\"NHF1\":range(22,31), \"Arabidopsis\":range(24,31), \"yeast\":range(22,26)}\n",
    "for cellType in cellTypes:\n",
    "    mismatchesByReadDirectories[cellType] = os.path.join(deaminationDeterminationDataDir, cellType, \"mismatches_by_read\")\n",
    "    sequenceAndPositionDirectories[cellType] = os.path.join(deaminationDeterminationDataDir, cellType, \"sequence_and_position_analysis\")"
   ]
  },
  {
   "cell_type": "code",
   "execution_count": null,
   "metadata": {},
   "outputs": [],
   "source": [
    "for cellType in cellTypes:\n",
    "    for timepoint in timepointsByCellType[cellType]:\n",
    "        formattedMismatchesByReadFilePaths = list()\n",
    "        print(f\"\\nWorking with: {cellType}; {timepoint}\")\n",
    "        for mismatchType in (\"C_to_T\", \"CC_to_TT\"):\n",
    "            print(f\"Formatting and filtering for {mismatchType} mismatches...\")\n",
    "            if mismatchType == \"C_to_T\":\n",
    "                originalMismatchesByReadFilePath = os.path.join(mismatchesByReadDirectories[cellType],\n",
    "                                                                f\"{cellType}_CPD_{timepoint}_all_reps_mismatches_by_read_TGG_filtered.bed\")\n",
    "            else:\n",
    "                originalMismatchesByReadFilePath = os.path.join(mismatchesByReadDirectories[cellType],\n",
    "                                                                f\"{cellType}_CPD_{timepoint}_all_reps_{mismatchType}_mismatches_by_read_TGG_filtered.bed\")\n",
    "            zScoresFilePath = os.path.join(sequenceAndPositionDirectories[cellType],\n",
    "                                           f\"{cellType}_CPD_{timepoint}_all_reps_{mismatchType}_mismatch_frequency_z-scores_TGG_filtered.tsv\")\n",
    "            formattedMismatchesByReadFilePath = formatMismatchesForRelation(originalMismatchesByReadFilePath, zScoresFilePath,\n",
    "                                                                            acceptableMismatchTypes=[mismatchType.replace(\"_to_\",'>')],\n",
    "                                                                            acceptableReadLengths = readLengthsByCellType[cellType])\n",
    "\n",
    "            formattedMismatchesByReadFilePaths.append(formattedMismatchesByReadFilePath)\n",
    "\n",
    "        \n",
    "        print(\"Combining single and tandem mismatches...\")\n",
    "        combinedFormattedMismatchesFilePath = combineSingleAndTandemMismatches(formattedMismatchesByReadFilePaths[0], formattedMismatchesByReadFilePaths[1])\n"
   ]
  }
 ],
 "metadata": {
  "kernelspec": {
   "display_name": "Python 3",
   "language": "python",
   "name": "python3"
  },
  "language_info": {
   "codemirror_mode": {
    "name": "ipython",
    "version": 3
   },
   "file_extension": ".py",
   "mimetype": "text/x-python",
   "name": "python",
   "nbconvert_exporter": "python",
   "pygments_lexer": "ipython3",
   "version": "3.8.10"
  },
  "orig_nbformat": 4
 },
 "nbformat": 4,
 "nbformat_minor": 2
}
