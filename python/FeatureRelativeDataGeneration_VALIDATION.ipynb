{
 "cells": [
  {
   "cell_type": "code",
   "execution_count": 1,
   "metadata": {},
   "outputs": [],
   "source": [
    "import os\n",
    "import tkinter as tk\n",
    "from tkinter import filedialog\n",
    "from FormatMismatchesForRelation import formatMismatchesForRelation\n",
    "from RelateMismatchesToFeature import relateMismatchesToFeature\n",
    "tk.Tk().withdraw()\n",
    "bioinformaticsDir = filedialog.askdirectory(title = \"Choose Bioinformatics Directory\")\n",
    "deaminationDeterminationDataDir = os.path.join(bioinformaticsDir, \"deamination_determination\", \"data\")\n",
    "mismatchesByReadFilePath = os.path.join(deaminationDeterminationDataDir, \"validation\", \"validation_mismatches_by_read_TGG_filtered.bed\")\n",
    "zScoresFilePath = os.path.join(deaminationDeterminationDataDir, \"NHF1\", \"sequence_and_position_analysis\", \"NHF1_CPD_1h_all_reps_C_to_T_mismatch_frequency_z-scores_TGG_filtered.tsv\")\n",
    "nucleosomeFilePath = os.path.join(deaminationDeterminationDataDir,\"validation\",\"validation_nucleosomes.bed\")"
   ]
  },
  {
   "cell_type": "code",
   "execution_count": 4,
   "metadata": {},
   "outputs": [],
   "source": [
    "# Format mismatches\n",
    "formattedMismatchesByReadFilePath = formatMismatchesForRelation(mismatchesByReadFilePath, zScoresFilePath,\n",
    "                                                                acceptableMismatchTypes=[\"C>T\"],\n",
    "                                                                acceptableReadLengths = range(22,30))\n",
    "\n",
    "# Relate to nucleosomes\n",
    "relateMismatchesToFeature(formattedMismatchesByReadFilePath, nucleosomeFilePath,\n",
    "                          outputSuffix = \"_nucleosome_related\", enforcedStrand = '+', midpointRadius = 500)"
   ]
  }
 ],
 "metadata": {
  "kernelspec": {
   "display_name": "Python 3",
   "language": "python",
   "name": "python3"
  },
  "language_info": {
   "codemirror_mode": {
    "name": "ipython",
    "version": 3
   },
   "file_extension": ".py",
   "mimetype": "text/x-python",
   "name": "python",
   "nbconvert_exporter": "python",
   "pygments_lexer": "ipython3",
   "version": "3.10.12"
  },
  "orig_nbformat": 4
 },
 "nbformat": 4,
 "nbformat_minor": 2
}
