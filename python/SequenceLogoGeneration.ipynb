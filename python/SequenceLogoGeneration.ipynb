{
 "cells": [
  {
   "cell_type": "code",
   "execution_count": null,
   "metadata": {},
   "outputs": [],
   "source": [
    "import os\n",
    "import tkinter as tk\n",
    "from tkinter import filedialog\n",
    "from CreateWebLogo import createWebLogo\n",
    "tk.Tk().withdraw()\n",
    "bioinformaticsDir = filedialog.askdirectory(title = \"Choose Bioinformatics Directory\")\n",
    "deaminationDeterminationDataDir = os.path.join(bioinformaticsDir, \"deamination_determination\", \"data\")\n",
    "generalReadSequencesDirectories = dict()\n",
    "cellTypes = (\"NHF1\", \"Arabidopsis\", \"yeast\", \"XP-C\", \"CS-B\", \"E_coli_WT\")\n",
    "timepointsByCellType = {\"NHF1\":[\"1h\",\"8h\",\"24h\",\"48h\"], \"Arabidopsis\":[\"ZT2\"], \"yeast\":[\"20min\"], \"XP-C\":[\"1h\"], \"CS-B\":[\"1h\"], \"E_coli_WT\":[\"5min\"]}\n",
    "for cellType in cellTypes:\n",
    "    generalReadSequencesDirectories[cellType] = os.path.join(deaminationDeterminationDataDir, cellType, \"general_read_sequences\")"
   ]
  },
  {
   "cell_type": "code",
   "execution_count": null,
   "metadata": {},
   "outputs": [],
   "source": [
    "CG_ContentByCellType = dict()\n",
    "for cellType in cellTypes:\n",
    "    for timepoint in timepointsByCellType[cellType]:\n",
    "        readsFilePath = os.path.join(generalReadSequencesDirectories[cellType],\n",
    "                                     f\"{cellType}_CPD_{timepoint}_all_reps_aligned_reads_10bp_expanded_TGG_filtered.bed\")\n",
    "        nucleotideCounts = dict()\n",
    "        with open(readsFilePath, 'r') as readsFile:\n",
    "            for line in readsFile:\n",
    "                readSequence = line.split()[6]\n",
    "                for nucleotide in readSequence:\n",
    "                    nucleotideCounts[nucleotide] = nucleotideCounts.setdefault(nucleotide, 0) + 1\n",
    "        \n",
    "        CG_ContentByCellType[cellType] = ((nucleotideCounts[\"C\"] + nucleotideCounts[\"G\"]) /\n",
    "                                        (nucleotideCounts[\"A\"] + nucleotideCounts[\"C\"] +\n",
    "                                        nucleotideCounts[\"G\"] + nucleotideCounts[\"T\"]) * 100)\n",
    "        print(f\"Nucleotide counts for {os.path.basename(readsFilePath)}:\")\n",
    "        for key,value in nucleotideCounts.items():  print(f\"\\t{key}: {value}\")\n",
    "        print(f\"CG content: {CG_ContentByCellType[cellType]}\\n\")"
   ]
  },
  {
   "cell_type": "code",
   "execution_count": null,
   "metadata": {},
   "outputs": [],
   "source": [
    "#NOTE: Web logo creation with the current software suuuuuuuuucks. Maybe find an alternative if we want to do high-throughput analysis like this?\n",
    "for cellType in cellTypes:\n",
    "    for strandPolarity in (\"three_prime\", \"five_prime\"):\n",
    "        if strandPolarity == \"five_prime\" and (cellType == \"Arabidopsis\" or cellType == \"yeast\"): continue\n",
    "        print(f\"Creating {strandPolarity.replace('_',' ')} sequence logo for {cellType}\")\n",
    "        webLogoInputFilePath = os.path.join(\n",
    "            generalReadSequencesDirectories[cellType],\n",
    "            f\"{cellType}_CPD_{timepointsByCellType[cellType][0]}_all_reps_{strandPolarity}\"\n",
    "             \"_sequence_logo_input_TGG_filtered_nonstandard_nuc_filtered.txt\"\n",
    "        )\n",
    "        createWebLogo([webLogoInputFilePath], round(CG_ContentByCellType[cellType]))\n",
    "    "
   ]
  }
 ],
 "metadata": {
  "kernelspec": {
   "display_name": "Python 3.8.10 64-bit",
   "language": "python",
   "name": "python3"
  },
  "language_info": {
   "codemirror_mode": {
    "name": "ipython",
    "version": 3
   },
   "file_extension": ".py",
   "mimetype": "text/x-python",
   "name": "python",
   "nbconvert_exporter": "python",
   "pygments_lexer": "ipython3",
   "version": "3.8.10"
  },
  "orig_nbformat": 4,
  "vscode": {
   "interpreter": {
    "hash": "31f2aee4e71d21fbe5cf8b01ff0e069b9275f58929596ceb00d14d90e3e16cd6"
   }
  }
 },
 "nbformat": 4,
 "nbformat_minor": 2
}
